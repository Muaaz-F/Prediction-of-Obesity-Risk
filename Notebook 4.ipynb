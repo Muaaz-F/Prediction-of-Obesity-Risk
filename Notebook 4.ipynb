{
 "cells": [
  {
   "cell_type": "code",
   "execution_count": 1,
   "id": "00a43137",
   "metadata": {},
   "outputs": [],
   "source": [
    "import pandas as pd\n",
    "import numpy as np"
   ]
  },
  {
   "cell_type": "code",
   "execution_count": 2,
   "id": "09d2ef17",
   "metadata": {},
   "outputs": [],
   "source": [
    "from sklearn.model_selection import train_test_split, GridSearchCV\n",
    "from sklearn.preprocessing import StandardScaler\n",
    "from sklearn.ensemble import RandomForestClassifier, GradientBoostingClassifier, VotingClassifier\n",
    "from sklearn.svm import SVC\n",
    "from sklearn.feature_selection import SelectKBest, mutual_info_classif\n",
    "from sklearn.metrics import accuracy_score"
   ]
  },
  {
   "cell_type": "code",
   "execution_count": 3,
   "id": "0c67c98a",
   "metadata": {},
   "outputs": [],
   "source": [
    "modified_train_df = pd.read_csv('modified_train.csv')\n",
    "modified_test_df = pd.read_csv('modified_test.csv')"
   ]
  },
  {
   "cell_type": "code",
   "execution_count": 4,
   "id": "7da632d5",
   "metadata": {},
   "outputs": [],
   "source": [
    "X_train = modified_train_df.drop(columns=['NObeyesdad'])\n",
    "y_train = modified_train_df['NObeyesdad']\n",
    "X_test = modified_test_df "
   ]
  },
  {
   "cell_type": "code",
   "execution_count": 5,
   "id": "9358168c",
   "metadata": {},
   "outputs": [],
   "source": [
    "train_id = X_train['id']\n",
    "test_id = X_test['id']\n",
    "\n",
    "X_train.drop(columns=['id'], inplace=True)\n",
    "X_test.drop(columns=['id'], inplace=True)"
   ]
  },
  {
   "cell_type": "code",
   "execution_count": 6,
   "id": "d34bf403",
   "metadata": {},
   "outputs": [],
   "source": [
    "scaler = StandardScaler()\n",
    "X_train_scaled = scaler.fit_transform(X_train)\n",
    "X_test_scaled = scaler.transform(X_test)"
   ]
  },
  {
   "cell_type": "code",
   "execution_count": 11,
   "id": "cf764a01",
   "metadata": {},
   "outputs": [],
   "source": [
    "param_grid_gb = {\n",
    "    'loss' : ['log_loss', 'exponential'],\n",
    "    'n_estimators': [100, 300], \n",
    "    'learning_rate': [0.01, 0.05],\n",
    "    'subsample' : [0.5, 1],\n",
    "    'max_depth': [3, 5, 7],\n",
    "    'min_samples_split': [2, 5, 10],  \n",
    "    'min_samples_leaf': [1, 2, 4],\n",
    "    'subsample': [0.8, 1.0],  \n",
    "    'max_features': ['auto', 'sqrt']\n",
    "}"
   ]
  },
  {
   "cell_type": "code",
   "execution_count": 12,
   "id": "03cc89fa",
   "metadata": {},
   "outputs": [],
   "source": [
    "grid_search_gb = GridSearchCV(GradientBoostingClassifier(), param_grid_gb, cv=5, scoring='accuracy')\n"
   ]
  },
  {
   "cell_type": "code",
   "execution_count": 14,
   "id": "e81adc67",
   "metadata": {},
   "outputs": [],
   "source": [
    "X_train_ensemble, X_val_ensemble, y_train_ensemble, y_val_ensemble = train_test_split(\n",
    "    X_train_scaled, y_train, test_size=0.2, random_state=42\n",
    ")\n"
   ]
  },
  {
   "cell_type": "code",
   "execution_count": null,
   "id": "5529a6ce",
   "metadata": {},
   "outputs": [],
   "source": [
    "grid_search_gb.fit(X_train_ensemble, y_train_ensemble)"
   ]
  },
  {
   "cell_type": "code",
   "execution_count": null,
   "id": "6bf76933",
   "metadata": {},
   "outputs": [],
   "source": [
    "best_gb = grid_search_gb.best_estimator_\n",
    "best_params_gb = grid_search_gb.best_params_\n"
   ]
  },
  {
   "cell_type": "code",
   "execution_count": null,
   "id": "4ac7a32f",
   "metadata": {},
   "outputs": [],
   "source": [
    "y_pred_val_gb = best_gb.predict(X_val_ensemble)"
   ]
  },
  {
   "cell_type": "code",
   "execution_count": null,
   "id": "1f41c525",
   "metadata": {},
   "outputs": [],
   "source": [
    "accuracy_val_gb = accuracy_score(y_val_ensemble, y_pred_val_gb)\n",
    "print(f\"Accuracy of Gradient Boosting after Hyperparameter Optimization: {accuracy_val_gb:.4f}\")"
   ]
  },
  {
   "cell_type": "code",
   "execution_count": null,
   "id": "4f66653e",
   "metadata": {},
   "outputs": [],
   "source": [
    "print(\"Best Parameters:\")\n",
    "print(best_params_gb)"
   ]
  }
 ],
 "metadata": {
  "kernelspec": {
   "display_name": "Python 3 (ipykernel)",
   "language": "python",
   "name": "python3"
  },
  "language_info": {
   "codemirror_mode": {
    "name": "ipython",
    "version": 3
   },
   "file_extension": ".py",
   "mimetype": "text/x-python",
   "name": "python",
   "nbconvert_exporter": "python",
   "pygments_lexer": "ipython3",
   "version": "3.11.5"
  }
 },
 "nbformat": 4,
 "nbformat_minor": 5
}
